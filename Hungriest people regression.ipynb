{
 "cells": [
  {
   "cell_type": "code",
   "execution_count": 40,
   "metadata": {
    "collapsed": true
   },
   "outputs": [],
   "source": [
    "import pandas as pd\n",
    "import numpy as np\n",
    "import seaborn as sns\n",
    "import matplotlib.pyplot as plt\n",
    "% matplotlib inline\n",
    "\n",
    "from sklearn.linear_model import LinearRegression\n",
    "from sklearn.model_selection import train_test_split"
   ]
  },
  {
   "cell_type": "code",
   "execution_count": 5,
   "metadata": {
    "collapsed": true
   },
   "outputs": [],
   "source": [
    "indicators=pd.read_csv(\"RHoMISmother_indicators.csv\")\n",
    "codebook=pd.read_csv(\"raw data code book.csv\")"
   ]
  },
  {
   "cell_type": "code",
   "execution_count": 6,
   "metadata": {},
   "outputs": [
    {
     "name": "stderr",
     "output_type": "stream",
     "text": [
      "C:\\Users\\Clare\\Anaconda3\\lib\\site-packages\\IPython\\core\\interactiveshell.py:2698: DtypeWarning: Columns (7,8,29,46,48,49,58,65,70,77,80,84,97,119,121,122,123,124,125,126,127,129,133,134,136,137,139,141,142,145,146,147,149,150,153,155,158,164,166,171,173,249,270,285,294,301,316,319,330,334,337,348,355,366,370,373,377,378,379,381,382,383,384,385,386,387,388,390,392,393,394,395,396,397,399,400,401,402,403,404,405,406,408,410,411,412,413,414,415,417,418,419,420,421,422,423,424,426,428,429,430,443,444,456,462,469,475,499,500,514,515,517,519,525,531,535,536,538,539,541,542,555,556,561,565,569,570,571,573,575,576,581,587,591,592,594,595,597,598,611,612,614,615,617,619,621,625,626,627,629,631,632,637,639,640,642,644,645,647,648,650,651,653,654,655,656,658,660,664,665,667,668,669,670,671,674,675,689,691,693,694,703,704,706,707,709,710,719,723,724,726,727,728,729,730,735) have mixed types. Specify dtype option on import or set low_memory=False.\n",
      "  interactivity=interactivity, compiler=compiler, result=result)\n"
     ]
    }
   ],
   "source": [
    "raw=pd.read_csv(\"RHoMISmother_rawdata.csv\",encoding = \"ISO-8859-1\")"
   ]
  },
  {
   "cell_type": "code",
   "execution_count": 7,
   "metadata": {
    "collapsed": true
   },
   "outputs": [],
   "source": [
    "# looking for duds in the HFIAS data\n",
    "raw['HHid']=raw['HouseholdID']\n",
    "HFIAS_data=pd.merge(raw[['HHid','HFIAS_1','HFIAS_2','HFIAS_3','HFIAS_4','HFIAS_5','HFIAS_6','HFIAS_7','HFIAS_8','HFIAS_9']],indicators[['HHid','HFIAS_status']],on='HHid')\n",
    "HFIAS_most_null=[]\n",
    "for i in range(len(HFIAS_data)):\n",
    "    n=0\n",
    "    for j in range(9):\n",
    "        if pd.isnull( HFIAS_data.iloc[i,j+1] ):\n",
    "            n+=1\n",
    "    if n>=7:\n",
    "        HFIAS_most_null.append(HFIAS_data.loc[i,'HHid'])\n",
    "HFIAS_"
   ]
  },
  {
   "cell_type": "code",
   "execution_count": 119,
   "metadata": {},
   "outputs": [
    {
     "name": "stdout",
     "output_type": "stream",
     "text": [
      "[  0.00000000e+00   1.84342857e-01   1.05003592e+01   2.58949485e+01\n",
      "   5.14872286e+01   9.41080196e+01   1.56888886e+02   2.67285105e+02\n",
      "   4.76762123e+02   1.09783781e+03] [0 1 2 3 4 5 6 7 8 9]\n",
      "There were problems in  0  rows.\n",
      "There were  36  households with no MAE. Of these,  15  were recorded with no members at all.\n"
     ]
    }
   ],
   "source": [
    "# create a numerical column for HFIAS status\n",
    "# and this column will remove the really shit ones from the list of shit ones\n",
    "# and a new column for income_percap\n",
    "prob=0\n",
    "for i in range(len(indicators)):\n",
    "    if indicators.loc[i,'HHid'] in HFIAS_most_null:\n",
    "        indicators.loc[i,'HFIAS_code']=None\n",
    "    elif str(indicators.loc[i,'HFIAS_status'])=='FoodSecure':\n",
    "        indicators.loc[i,'HFIAS_code']=0\n",
    "    elif str(indicators.loc[i,'HFIAS_status'])=='MildlyFI':\n",
    "        indicators.loc[i,'HFIAS_code']=1\n",
    "    elif str(indicators.loc[i,'HFIAS_status'])=='ModeratelyFI':\n",
    "        indicators.loc[i,'HFIAS_code']=2\n",
    "    elif str(indicators.loc[i,'HFIAS_status'])=='SeverelyFI':\n",
    "        indicators.loc[i,'HFIAS_code']=3\n",
    "        continue\n",
    "    else:\n",
    "        prob+=1\n",
    "zero=0\n",
    "dz=0\n",
    "for i in range(len(indicators)):\n",
    "    if indicators.loc[(i,'HHsizeMAE')]!=0:\n",
    "        indicators.loc[(i,'income_percap')]=np.divide(indicators.loc[(i,'total_income')],indicators.loc[(i,'HHsizeMAE')])\n",
    "    else: \n",
    "        zero+=1\n",
    "        if indicators.loc[(i,'HHsizemembers')]==0:\n",
    "            dz+=1\n",
    "            indicators.loc[(i,'income_percap')]=indicators.loc[(i,'total_income')]\n",
    "        else:\n",
    "            indicators.loc[(i,'income_percap')]=np.divide(indicators.loc[(i,'total_income')],indicators.loc[(i,'HHsizemembers')])\n",
    "# make a new income percentile column\n",
    "percentiles=np.zeros(10)\n",
    "maps=np.arange(0,10,1)\n",
    "for i in range(9):\n",
    "    j=np.divide(i+1,10)\n",
    "    percentiles[i+1]=indicators['income_percap'].quantile (q=j, interpolation='linear')\n",
    "print(percentiles,maps)\n",
    "indicators['inc_pc_perc']=None\n",
    "for m in range(len(indicators)):\n",
    "    k=9\n",
    "    while indicators.loc[(m,'income_percap')]<percentiles[k]:\n",
    "        k-=1\n",
    "    indicators.loc[(m,'inc_pc_perc')]=maps[k]\n",
    "indicators['inc_pc_perc']=pd.DataFrame(indicators['inc_pc_perc'],dtype='float')\n",
    "print('There were problems in ',prob,' rows.')\n",
    "print('There were ',zero,' households with no MAE. Of these, ',dz,' were recorded with no members at all.')"
   ]
  },
  {
   "cell_type": "code",
   "execution_count": 120,
   "metadata": {
    "collapsed": true
   },
   "outputs": [],
   "source": [
    "hunger=indicators[['HHid','score_PPI','HFIAS_code','score_HDDSBadSeason','income_percap','inc_pc_perc','HDDS_farmbasedBadSeason','HDDS_purchasedBadSeason','CropDiv','LivestockDiv','FAEnergyOffFarm','FAEnergyFarmBased','FAMarketOrientation','NrofMonthsFoodInsecure','Country']]"
   ]
  },
  {
   "cell_type": "code",
   "execution_count": 209,
   "metadata": {
    "scrolled": true
   },
   "outputs": [
    {
     "data": {
      "text/plain": [
       "<matplotlib.axes._subplots.AxesSubplot at 0x2b9dac7f780>"
      ]
     },
     "execution_count": 209,
     "metadata": {},
     "output_type": "execute_result"
    },
    {
     "data": {
      "image/png": "[encoded data removed]",
      "text/plain": [
       "<matplotlib.figure.Figure at 0x2b9db5800b8>"
      ]
     },
     "metadata": {},
     "output_type": "display_data"
    }
   ],
   "source": [
    "sns.heatmap(hunger[['score_PPI','HFIAS_code','score_HDDSBadSeason','income_percap','inc_pc_perc','HDDS_farmbasedBadSeason','HDDS_purchasedBadSeason','FAMarketOrientation']].corr(method='spearman'),annot=True)"
   ]
  },
  {
   "cell_type": "code",
   "execution_count": 204,
   "metadata": {},
   "outputs": [
    {
     "data": {
      "text/html": [
       "<div>\n",
       "<style>\n",
       "    .dataframe thead tr:only-child th {\n",
       "        text-align: right;\n",
       "    }\n",
       "\n",
       "    .dataframe thead th {\n",
       "        text-align: left;\n",
       "    }\n",
       "\n",
       "    .dataframe tbody tr th {\n",
       "        vertical-align: top;\n",
       "    }\n",
       "</style>\n",
       "<table border=\"1\" class=\"dataframe\">\n",
       "  <thead>\n",
       "    <tr style=\"text-align: right;\">\n",
       "      <th></th>\n",
       "      <th>score_HDDSBadSeason</th>\n",
       "    </tr>\n",
       "  </thead>\n",
       "  <tbody>\n",
       "    <tr>\n",
       "      <th>3</th>\n",
       "      <td>4.0</td>\n",
       "    </tr>\n",
       "    <tr>\n",
       "      <th>2516</th>\n",
       "      <td>NaN</td>\n",
       "    </tr>\n",
       "    <tr>\n",
       "      <th>4004</th>\n",
       "      <td>3.0</td>\n",
       "    </tr>\n",
       "    <tr>\n",
       "      <th>3603</th>\n",
       "      <td>1.0</td>\n",
       "    </tr>\n",
       "    <tr>\n",
       "      <th>1830</th>\n",
       "      <td>10.0</td>\n",
       "    </tr>\n",
       "  </tbody>\n",
       "</table>\n",
       "</div>"
      ],
      "text/plain": [
       "      score_HDDSBadSeason\n",
       "3                     4.0\n",
       "2516                  NaN\n",
       "4004                  3.0\n",
       "3603                  1.0\n",
       "1830                 10.0"
      ]
     },
     "execution_count": 204,
     "metadata": {},
     "output_type": "execute_result"
    }
   ],
   "source": [
    "#setting up the model\n",
    "X=hunger[['score_PPI','inc_pc_perc','CropDiv','LivestockDiv','FAMarketOrientation']]\n",
    "# y=hunger[['HFIAS_code','score_HDDSBadSeason','NrofMonthsFoodInsecure']]\n",
    "y=hunger[['score_HDDSBadSeason']]\n",
    "d=np.ones((len(X),1))*10\n",
    "dummy=pd.DataFrame(d,columns=[['dummy']])\n",
    "Xd=pd.concat([X,dummy],axis=1)\n",
    "X_tr,X_test,y_tr,y_test=train_test_split(Xd,y)\n",
    "y_test.head()"
   ]
  },
  {
   "cell_type": "code",
   "execution_count": 205,
   "metadata": {},
   "outputs": [
    {
     "data": {
      "text/plain": [
       "array([[ 0.,  0.,  0.,  0.,  0.],\n",
       "       [ 0.,  0.,  0.,  0.,  1.],\n",
       "       [ 0.,  0.,  0.,  1.,  0.],\n",
       "       [ 0.,  0.,  0.,  1.,  1.],\n",
       "       [ 0.,  0.,  1.,  0.,  0.],\n",
       "       [ 0.,  0.,  1.,  0.,  1.],\n",
       "       [ 0.,  0.,  1.,  1.,  0.],\n",
       "       [ 0.,  0.,  1.,  1.,  1.],\n",
       "       [ 0.,  1.,  0.,  0.,  0.],\n",
       "       [ 0.,  1.,  0.,  0.,  1.],\n",
       "       [ 0.,  1.,  0.,  1.,  0.],\n",
       "       [ 0.,  1.,  0.,  1.,  1.],\n",
       "       [ 0.,  1.,  1.,  0.,  0.],\n",
       "       [ 0.,  1.,  1.,  0.,  1.],\n",
       "       [ 0.,  1.,  1.,  1.,  0.],\n",
       "       [ 0.,  1.,  1.,  1.,  1.],\n",
       "       [ 1.,  0.,  0.,  0.,  0.],\n",
       "       [ 1.,  0.,  0.,  0.,  1.],\n",
       "       [ 1.,  0.,  0.,  1.,  0.],\n",
       "       [ 1.,  0.,  0.,  1.,  1.],\n",
       "       [ 1.,  0.,  1.,  0.,  0.],\n",
       "       [ 1.,  0.,  1.,  0.,  1.],\n",
       "       [ 1.,  0.,  1.,  1.,  0.],\n",
       "       [ 1.,  0.,  1.,  1.,  1.],\n",
       "       [ 1.,  1.,  0.,  0.,  0.],\n",
       "       [ 1.,  1.,  0.,  0.,  1.],\n",
       "       [ 1.,  1.,  0.,  1.,  0.],\n",
       "       [ 1.,  1.,  0.,  1.,  1.],\n",
       "       [ 1.,  1.,  1.,  0.,  0.],\n",
       "       [ 1.,  1.,  1.,  0.,  1.],\n",
       "       [ 1.,  1.,  1.,  1.,  0.],\n",
       "       [ 1.,  1.,  1.,  1.,  1.]])"
      ]
     },
     "execution_count": 205,
     "metadata": {},
     "output_type": "execute_result"
    }
   ],
   "source": [
    "b_c=np.zeros((pow(2,5),5))\n",
    "for i in range (1,pow(2,5)):\n",
    "    if b_c[i-1,4]==0:\n",
    "        b_c[i,4]=1\n",
    "    else:\n",
    "        b_c[i,4]=0\n",
    "    for k in range(4):\n",
    "        j=3-k\n",
    "        if b_c[i,j+1]==0:\n",
    "            if b_c[i-1,j]==0:\n",
    "                b_c[i,j]=1\n",
    "                break\n",
    "            else:\n",
    "                b_c[i,j]=0\n",
    "        else:\n",
    "            b_c[i,j]=b_c[i-1,j]\n",
    "            break\n",
    "    for l in range(k+1,4):\n",
    "        j=3-l\n",
    "        b_c[i,j]=b_c[i-1,j]\n",
    "        \n",
    "b_c"
   ]
  },
  {
   "cell_type": "code",
   "execution_count": 208,
   "metadata": {
    "scrolled": true
   },
   "outputs": [
    {
     "name": "stdout",
     "output_type": "stream",
     "text": [
      "[ 1.  1.  0.  0.  0.] 0.143743998734 [ 0.03584824  0.15465467  0.          0.          0.        ]\n",
      "[ 1.  1.  0.  0.  1.] 0.14502927279 [ 0.03558022  0.19649723  0.          0.         -0.82184597]\n",
      "[ 1.  1.  0.  1.  0.] 0.142730684588 [ 0.03593266  0.15077136  0.          0.03001166  0.        ]\n",
      "[ 1.  1.  0.  1.  1.] 0.144919185167 [  3.55913922e-02   1.95905261e-01  -8.60422844e-16   3.31320455e-03\n",
      "  -8.18134985e-01]\n",
      "[ 1.  1.  1.  0.  0.] 0.144058262234 [ 0.03496618  0.15259749  0.061953    0.          0.        ]\n",
      "[ 1.  1.  1.  0.  1.] 0.144956159743 [ 0.03453927  0.19746996  0.06426003  0.         -0.83739341]\n",
      "[ 1.  1.  1.  1.  0.] 0.143456969612 [ 0.03503974  0.15047876  0.06011459  0.01684615  0.        ]\n",
      "[ 1.  1.  1.  1.  1.] 0.145322199213 [ 0.03448554  0.19937789  0.06537336 -0.01058418 -0.84951768]\n"
     ]
    }
   ],
   "source": [
    "test=pd.concat([X_test,y_test], axis=1)\n",
    "test.dropna(inplace=True)\n",
    "test_x=test.iloc[:,:5]\n",
    "test_y=test.iloc[:,6]\n",
    "\n",
    "models={}\n",
    "R=0.14\n",
    "for i in range(len(b_c)):\n",
    "#for i in range(1):\n",
    "    if b_c[i,0]==0:\n",
    "        d=X_tr['dummy']\n",
    "    else:\n",
    "        d=X_tr.iloc[:,0]\n",
    "    for j in range(1,5):\n",
    "        if b_c[i,j]==0:\n",
    "            e=X_tr['dummy']\n",
    "        else:\n",
    "            e=X_tr.iloc[:,j]\n",
    "        d=pd.concat([d, e],axis=1)\n",
    "    final=pd.concat([d,y_tr],axis=1)\n",
    "    final.dropna(inplace=True)\n",
    "    fin_x=final.iloc[:,:5]\n",
    "    fin_y=final.iloc[:,5]\n",
    "    m=LinearRegression().fit(fin_x,fin_y)\n",
    "    if m.score(test_x,test_y) >=R:\n",
    "        models[i]=(m,(b_c[i,:], m.score(test_x,test_y)))\n",
    "        print(b_c[i,:],m.score(test_x,test_y),m.coef_)\n"
   ]
  },
  {
   "cell_type": "code",
   "execution_count": 207,
   "metadata": {},
   "outputs": [
    {
     "data": {
      "text/plain": [
       "19"
      ]
     },
     "execution_count": 207,
     "metadata": {},
     "output_type": "execute_result"
    }
   ],
   "source": [
    "len(models)"
   ]
  },
  {
   "cell_type": "code",
   "execution_count": 145,
   "metadata": {},
   "outputs": [
    {
     "data": {
      "text/plain": [
       "Index(['score_PPI', 'income_percap', 'inc_pc_perc', 'CropDiv', 'LivestockDiv',\n",
       "       'FAEnergyOffFarm', 'FAEnergyFarmBased', 'FAMarketOrientation'],\n",
       "      dtype='object')"
      ]
     },
     "execution_count": 145,
     "metadata": {},
     "output_type": "execute_result"
    }
   ],
   "source": [
    "test_x.columns"
   ]
  },
  {
   "cell_type": "code",
   "execution_count": null,
   "metadata": {
    "collapsed": true
   },
   "outputs": [],
   "source": []
  }
 ],
 "metadata": {
  "kernelspec": {
   "display_name": "Python 3",
   "language": "python",
   "name": "python3"
  },
  "language_info": {
   "codemirror_mode": {
    "name": "ipython",
    "version": 3
   },
   "file_extension": ".py",
   "mimetype": "text/x-python",
   "name": "python",
   "nbconvert_exporter": "python",
   "pygments_lexer": "ipython3",
   "version": "3.6.3"
  }
 },
 "nbformat": 4,
 "nbformat_minor": 2
}
